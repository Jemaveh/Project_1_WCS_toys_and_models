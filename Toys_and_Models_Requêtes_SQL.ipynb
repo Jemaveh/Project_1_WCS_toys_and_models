{
  "nbformat": 4,
  "nbformat_minor": 0,
  "metadata": {
    "colab": {
      "provenance": []
    },
    "kernelspec": {
      "name": "python3",
      "display_name": "Python 3"
    },
    "language_info": {
      "name": "python"
    }
  },
  "cells": [
    {
      "cell_type": "markdown",
      "source": [
        "#Logistique"
      ],
      "metadata": {
        "id": "NanKn-G9au5R"
      }
    },
    {
      "cell_type": "markdown",
      "source": [
        "## Overview : Stocks of the 5 most ordered products (2023)"
      ],
      "metadata": {
        "id": "_lNtLDwqcxiB"
      }
    },
    {
      "cell_type": "code",
      "source": [
        "SELECT p.productName, SUM(od.quantityOrdered) AS quant_vendue, ANY_VALUE(p.quantityInStock) AS Stock\n",
        "FROM orderdetails od\n",
        "INNER JOIN products p ON p.productCode = od.productCode\n",
        "INNER JOIN orders o ON o.orderNumber = od.orderNumber\n",
        "WHERE o.status = \"\"Shipped\"\" AND o.shippedDate LIKE \"\"2023-%\"\"\n",
        "GROUP BY p.productname\n",
        "ORDER BY quant_vendue DESC LIMIT 5#(lf)"
      ],
      "metadata": {
        "id": "lY4iRm6cceKj"
      },
      "execution_count": null,
      "outputs": []
    },
    {
      "cell_type": "markdown",
      "source": [
        "## Stock Unit"
      ],
      "metadata": {
        "id": "-L1yT_-UduTV"
      }
    },
    {
      "cell_type": "code",
      "source": [
        "SELECT p.productName, SUM(p.quantityInStock) AS quantite_stock\n",
        "FROM products p\n",
        "GROUP BY p.productName\n",
        "ORDER BY p.productName;"
      ],
      "metadata": {
        "id": "C7X9astBc0Y2"
      },
      "execution_count": null,
      "outputs": []
    },
    {
      "cell_type": "markdown",
      "source": [
        "## Stock Value Product Name"
      ],
      "metadata": {
        "id": "8PF-DypZd0yv"
      }
    },
    {
      "cell_type": "code",
      "source": [
        "SET sql_mode=(SELECT REPLACE(@@sql_mode,'ONLY_FULL_GROUP_BY',''));\n",
        "\n",
        "SELECT productName, (quantityInStock*buyPrice) AS valeur_en_stock, quantityInStock AS nb_unite\n",
        "FROM products\n",
        "GROUP BY productName\n",
        "ORDER BY valeur_en_stock DESC;"
      ],
      "metadata": {
        "id": "R8K7-mmIeCXv"
      },
      "execution_count": null,
      "outputs": []
    },
    {
      "cell_type": "markdown",
      "source": [
        "#Ressources Humaines"
      ],
      "metadata": {
        "id": "HSNkoEwebD5R"
      }
    },
    {
      "cell_type": "markdown",
      "source": [
        "## Overview : Best seller per Month"
      ],
      "metadata": {
        "id": "Wh2ep-C3f7E-"
      }
    },
    {
      "cell_type": "code",
      "source": [
        "SELECT month_year, seller, turnover, profit, r.city\n",
        "FROM (\n",
        "\tSELECT\n",
        "   \t DATE_FORMAT(o.orderDate, \"%Y %m\") AS month_year,\n",
        "   \t CONCAT(e.lastName, ' ', e.firstName) AS seller,\n",
        "   \t SUM(od.quantityOrdered * od.priceEach) AS turnover,\n",
        "   \t SUM(od.quantityOrdered * od.priceEach) - SUM(od.quantityOrdered * buyPrice) AS profit,\n",
        "   \t oi.city,\n",
        "    \tRANK() OVER (PARTITION BY DATE_FORMAT(o.orderDate, \"%Y %m\") ORDER BY SUM(od.quantityOrdered * od.priceEach) DESC) AS seller_rank\n",
        "\tFROM orders o\n",
        "\tJOIN customers c ON c.customerNumber = o.customerNumber\n",
        "\tJOIN employees e ON e.employeeNumber = c.salesRepEmployeeNumber\n",
        "\tJOIN orderdetails od ON od.orderNumber = o.orderNumber\n",
        "\tJOIN products p ON p.productCode = od.productCode\n",
        "\tJOIN offices oi ON oi.officeCode = e.officeCode\n",
        "\tGROUP BY seller, month_year, oi.city\n",
        ") AS r\n",
        "WHERE seller_rank <= 2\n",
        "ORDER BY month_year, seller_rank;"
      ],
      "metadata": {
        "id": "cr0ac2_zbAH9"
      },
      "execution_count": null,
      "outputs": []
    },
    {
      "cell_type": "markdown",
      "source": [
        "## Turnover per seller"
      ],
      "metadata": {
        "id": "szWnb8iTgWp_"
      }
    },
    {
      "cell_type": "code",
      "source": [
        "SELECT\n",
        "    DATE_FORMAT(o.orderDate, \"%Y %m\") AS month_year,\n",
        "    CONCAT(e.lastName, ' ', e.firstName) AS seller,\n",
        "    SUM(od.quantityOrdered * od.priceEach) AS turnover,\n",
        "    SUM(od.quantityOrdered * od.priceEach) - SUM(od.quantityOrdered * buyPrice) AS profit,\n",
        "    oi.city\n",
        "FROM orders o\n",
        "JOIN customers c ON c.customerNumber = o.customerNumber\n",
        "JOIN employees e ON e.employeeNumber = c.salesRepEmployeeNumber\n",
        "JOIN orderdetails od ON od.orderNumber = o.orderNumber\n",
        "JOIN products p ON p.productCode = od.productCode\n",
        "JOIN offices oi ON oi.officeCode = e.officeCode\n",
        "GROUP BY seller, month_year, oi.city\n",
        "ORDER BY month_year, turnover DESC;"
      ],
      "metadata": {
        "id": "N-6P6pWKbsEG"
      },
      "execution_count": null,
      "outputs": []
    },
    {
      "cell_type": "markdown",
      "source": [
        "#Finance"
      ],
      "metadata": {
        "id": "3BvY8qmqbO5S"
      }
    },
    {
      "cell_type": "markdown",
      "source": [
        "## Overview and finance page : Turnover by country"
      ],
      "metadata": {
        "id": "kvTvEiASgoja"
      }
    },
    {
      "cell_type": "code",
      "source": [
        "SET sql_mode=(SELECT REPLACE(@@sql_mode,'ONLY_FULL_GROUP_BY',''));\n",
        "\n",
        "SELECT DATE_FORMAT(o.orderDate, '%Y-%m') AS Month, o.orderNumber, SUM(od.quantityOrdered * od.priceEach) AS ChiffreAffaire, SUM(od.quantityOrdered * p.buyPrice) AS CoutAchat\n",
        "FROM orderdetails od\n",
        "JOIN orders o ON o.orderNumber = od.orderNumber\n",
        "JOIN products p ON p.productCode = od.productCode\n",
        "WHERE o.status IN (\"\"Shipped\"\" , \"\"Resolved\"\")\n",
        "GROUP BY Month, od.orderNumber\n",
        "ORDER BY od.orderNumber;"
      ],
      "metadata": {
        "id": "MpuDAcTcb1-I"
      },
      "execution_count": null,
      "outputs": []
    },
    {
      "cell_type": "markdown",
      "source": [
        "##Measures"
      ],
      "metadata": {
        "id": "kCz1k7tSko9R"
      }
    },
    {
      "cell_type": "code",
      "source": [
        "diffCAetMarge =\n",
        "SUM('CAetMarge'[ChiffreAffaire]) - [Marge]"
      ],
      "metadata": {
        "id": "WcjbhqXAkro2"
      },
      "execution_count": null,
      "outputs": []
    },
    {
      "cell_type": "code",
      "source": [
        "Marge =\n",
        "SUM('CAetMarge'[ChiffreAffaire]) - SUM('CAetMarge'[CoutAchat])"
      ],
      "metadata": {
        "id": "ZecA2k5Tkse3"
      },
      "execution_count": null,
      "outputs": []
    },
    {
      "cell_type": "markdown",
      "source": [
        "## Overview and finance page: Customer with payment default"
      ],
      "metadata": {
        "id": "sK9spWUxhi5f"
      }
    },
    {
      "cell_type": "code",
      "source": [
        "SELECT\n",
        "    c.customerNumber AS numero_client,\n",
        "    c.customerName AS nom_client,\n",
        "    IFNULL(SUM(montant_commande), 0) AS montant_commande,\n",
        "    IFNULL(SUM(paiements_recus), 0) AS paiements_recus\n",
        "FROM\n",
        "    customers c\n",
        "LEFT JOIN (\n",
        "    SELECT\n",
        "        o.customerNumber,\n",
        "        SUM(od.quantityOrdered * od.priceEach) AS montant_commande\n",
        "    FROM\n",
        "        orders o\n",
        "    JOIN\n",
        "        orderdetails od ON o.orderNumber = od.orderNumber\n",
        "    GROUP BY\n",
        "        o.customerNumber\n",
        ") AS cmd ON c.customerNumber = cmd.customerNumber\n",
        "\n",
        "LEFT JOIN (\n",
        "    SELECT\n",
        "        p.customerNumber,\n",
        "        SUM(p.amount) AS paiements_recus\n",
        "    FROM\n",
        "        payments p\n",
        "    GROUP BY\n",
        "        p.customerNumber\n",
        ") AS pay ON c.customerNumber = pay.customerNumber\n",
        "\n",
        "GROUP BY\n",
        "    c.customerNumber, c.customerName\n",
        "ORDER BY\n",
        "    c.customerNumber;"
      ],
      "metadata": {
        "id": "WYrdw66virIS"
      },
      "execution_count": null,
      "outputs": []
    },
    {
      "cell_type": "markdown",
      "source": [
        "##Measure :"
      ],
      "metadata": {
        "id": "V8-iiR7gk3WN"
      }
    },
    {
      "cell_type": "code",
      "source": [
        "ResteApayer = 'Requête1'[montant_commande]-'Requête1'[paiements_recus]"
      ],
      "metadata": {
        "id": "r9SfyYZwk5qO"
      },
      "execution_count": null,
      "outputs": []
    },
    {
      "cell_type": "markdown",
      "source": [
        "# Ventes"
      ],
      "metadata": {
        "id": "YCEE74RXi-dQ"
      }
    },
    {
      "cell_type": "markdown",
      "source": [
        "## Overview and Sales page"
      ],
      "metadata": {
        "id": "Rw13W6DGjAcR"
      }
    },
    {
      "cell_type": "code",
      "source": [
        "SELECT productlines.productline AS categories,\n",
        "DATE_FORMAT(orderdate, '%Y-%m') AS annee_mois,\n",
        "SUM(orderdetails.quantityordered) AS nb_produits_commandes\n",
        "FROM products\n",
        "INNER JOIN orderdetails ON products.productcode=orderdetails.productcode\n",
        "INNER JOIN productlines ON products.productline=productlines.productline\n",
        "INNER JOIN orders ON orderdetails.ordernumber=orders.ordernumber\n",
        "GROUP BY categories, DATE_FORMAT(orderdate, '%Y-%m')\n",
        "ORDER BY categories ASC, annee_mois DESC;"
      ],
      "metadata": {
        "id": "B486R-3qjPOG"
      },
      "execution_count": null,
      "outputs": []
    },
    {
      "cell_type": "markdown",
      "source": [
        "## measure : rate of change"
      ],
      "metadata": {
        "id": "AdMDXFkOkOvx"
      }
    },
    {
      "cell_type": "code",
      "source": [
        "Rate of change (%) with Y - 1 =\n",
        "IF( ISFILTERED('TestSales'[nb_produits_commandes]),\n",
        "\tERROR(\"error\"),\n",
        "\tVAR PREVIOUS_YEAR =\n",
        "\t\tCALCULATE(\n",
        "\t\t\tSUM('TestSales'[nb_produits_commandes]),\n",
        "\t\t\tDATEADD('TestSales'[annee_mois].[Date], -1, YEAR)\n",
        "\t\t)\n",
        "\tRETURN\n",
        "\t\tDIVIDE(\n",
        "\t\t\tSUM('TestSales'[nb_produits_commandes]) - PREVIOUS_YEAR,\n",
        "\t\t\tPREVIOUS_YEAR\n",
        "\t\t)\n",
        ")"
      ],
      "metadata": {
        "id": "Mob4uMDMkQtu"
      },
      "execution_count": null,
      "outputs": []
    }
  ]
}